{
 "cells": [
  {
   "cell_type": "markdown",
   "metadata": {},
   "source": [
    "## 1. Carga de librerias\n"
   ]
  },
  {
   "cell_type": "code",
   "execution_count": null,
   "metadata": {},
   "outputs": [],
   "source": [
    "! python -m pip install --upgrade pip\n",
    "! pip install keras\n",
    "! pip install tensorflow"
   ]
  },
  {
   "cell_type": "code",
   "execution_count": 149,
   "metadata": {},
   "outputs": [],
   "source": [
    "### General\n",
    "import numpy as np\n",
    "import matplotlib.pyplot as plt\n",
    "from matplotlib.colors import ListedColormap\n",
    "import seaborn as sns\n",
    "import pandas as pd\n",
    "from sklearn.model_selection import KFold\n",
    "from sklearn.model_selection import train_test_split\n",
    "from sklearn.preprocessing import LabelEncoder, OneHotEncoder, StandardScaler\n",
    "from sklearn.compose import ColumnTransformer, make_column_transformer\n",
    "from sklearn.multioutput import MultiOutputClassifier\n",
    "from sklearn.model_selection import cross_validate\n",
    "import math\n",
    "from sklearn.metrics import confusion_matrix, precision_score, accuracy_score\n",
    "import tensorflow as tf\n",
    "\n",
    "### Error\n",
    "## ECM\n",
    "from sklearn.metrics import mean_squared_error\n",
    "## Coeficiente de determinacion\n",
    "from sklearn.metrics import r2_score\n",
    "## Varianza explicada\n",
    "from sklearn.metrics import explained_variance_score\n",
    "## Naive Bayes \n",
    "from sklearn.naive_bayes import GaussianNB, BernoulliNB, MultinomialNB\n",
    "## KNN\n",
    "from sklearn.neighbors import KNeighborsClassifier\n",
    "### Redes Neuronales Artificiales\n",
    "from keras.models import Sequential\n",
    "from keras.layers import Dense, Activation, Dropout\n",
    "from keras.utils import np_utils\n",
    "from keras.wrappers.scikit_learn import KerasClassifier\n",
    "### Random Forest\n",
    "from sklearn.ensemble import RandomForestClassifier\n",
    "### Vectores de soporte\n",
    "from sklearn import svm"
   ]
  },
  {
   "cell_type": "markdown",
   "metadata": {},
   "source": [
    "## 2. Carga de la base de datos\n",
    "\n",
    "#### Características: \n",
    "- Variables de entrada:\n",
    " - ##### Datos del cliente del banco:\n",
    "   1. age (numérica)\n",
    "   2. job : tipo de empleo (categórica: \"admin.\",\"unknown\",\"unemployed\",\"management\",\"housemaid\",\"entrepreneur\",\"student\",     \"blue-collar\",\"self-employed\",\"retired\",\"technician\",\"services\") \n",
    "   3. marital : estado civil (categórica: \"married\",\"divorced\",\"single\"; nota: \"divorced\" aplica para divorciado o viudo)\n",
    "   4. education (categórica: \"unknown\",\"secondary\",\"primary\",\"tertiary\")\n",
    "   5. default: tiene credito? (binaria: \"yes\",\"no\")\n",
    "   6. balance: promedio de saldo anual en euros (numérica) \n",
    "   7. housing: tiene crédito de vivienda? (binaria: \"yes\",\"no\")\n",
    "   8. loan: tiene crédito personal? (binaria: \"yes\",\"no\")\n",
    " - ##### Datos del último contacto en relación a la actual campaña:\n",
    "   9. contact: tipo de comunicación (categórica: \"unknown\",\"telephone\",\"cellular\") \n",
    "   10. day: último día de contacto en el mes (numérica)\n",
    "   11. month: último mes de contacto del año (categórica: \"jan\", \"feb\", \"mar\", ..., \"nov\", \"dec\")\n",
    "   12. duration: última duración de contacto en segundos (numérica)\n",
    " - ##### Otros atributos:\n",
    "   13. campaign: número de contactos realizados durante la campaña para este cliente (numérica, incluye último contacto)\n",
    "   14. pdays: número de dias que pasaron después de que el cliente fué contactado desde una campaña anterior (numérica, -1 significa que el cliente no había sido previamente contactado)\n",
    "   15. previous: número de contactos realizados antes de la campaña actual para este cliente (numérica)\n",
    "   16. poutcome: resultado de la campaña anterior (categórica: \"unknown\",\"other\",\"failure\",\"success\")\n",
    "   \n",
    "   \n",
    "- Variable de salida (objetivo deseado):\n",
    "\n",
    "   17. y: se suscribió el cliente al depósito a término fijo? (binaria: \"yes\",\"no\")\n",
    "\n",
    "\n",
    "- Datos faltantes: nunguno"
   ]
  },
  {
   "cell_type": "code",
   "execution_count": 150,
   "metadata": {
    "scrolled": true
   },
   "outputs": [
    {
     "name": "stdout",
     "output_type": "stream",
     "text": [
      "(4521, 48)\n"
     ]
    },
    {
     "name": "stderr",
     "output_type": "stream",
     "text": [
      "/home/daemonsoft/anaconda3/lib/python3.7/site-packages/sklearn/preprocessing/data.py:625: DataConversionWarning: Data with input dtype int64 were all converted to float64 by StandardScaler.\n",
      "  return self.partial_fit(X, y)\n",
      "/home/daemonsoft/anaconda3/lib/python3.7/site-packages/sklearn/base.py:462: DataConversionWarning: Data with input dtype int64 were all converted to float64 by StandardScaler.\n",
      "  return self.fit(X, **fit_params).transform(X)\n"
     ]
    }
   ],
   "source": [
    "dataset = pd.read_csv(\"data/bank.csv\", delimiter=\";\",header='infer')\n",
    "\n",
    "data = dataset.iloc[:, :-1]\n",
    "target = dataset.iloc[:,-1]\n",
    "\n",
    "binary_cols = ['default', 'housing', 'loan']\n",
    "numerical_cols = ['age', 'balance', 'day', 'duration', \n",
    "                  'campaign', 'pdays', 'previous']\n",
    "categorical_cols = ['job', 'marital', 'education', 'contact',\n",
    "                    'month', 'poutcome']\n",
    "\n",
    "label_encoder = LabelEncoder()\n",
    "\n",
    "data[binary_cols] = data[binary_cols].apply(lambda col: label_encoder.fit_transform(col))\n",
    "\n",
    "column_trasformer = ColumnTransformer( transformers=[('ss', StandardScaler(), numerical_cols),\n",
    "                                                     ('ohe', OneHotEncoder(sparse=False), categorical_cols)],\n",
    "                                      remainder='passthrough')\n",
    "\n",
    "data_encoded = column_trasformer.fit_transform(data)\n",
    "\n",
    "print(data_encoded.shape)\n",
    "\n",
    "# Convertir salida a binario\n",
    "target_label_encoder = LabelEncoder()\n",
    "\n",
    "target = target_label_encoder.fit_transform(target)\n",
    "\n",
    "# Dividir en conjuntos de entrenamiento y pruebas\n",
    "X_train, X_test, y_train, y_test = train_test_split(data_encoded, target, test_size=0.1) # 90% training and 10% test\n",
    "\n"
   ]
  },
  {
   "cell_type": "markdown",
   "metadata": {},
   "source": [
    "## Naive Bayes"
   ]
  },
  {
   "cell_type": "code",
   "execution_count": 151,
   "metadata": {},
   "outputs": [
    {
     "name": "stdout",
     "output_type": "stream",
     "text": [
      "Number of mislabeled points out of a total 453 points : 67, performance 85.21%\n"
     ]
    }
   ],
   "source": [
    "## Naive Bayes \n",
    "gnb = GaussianNB()\n",
    "\n",
    "gnb_pred = gnb.fit(X_train, y_train).predict(X_test)\n",
    "\n",
    "print(\"Number of mislabeled points out of a total {} points : {}, performance {:05.2f}%\"\n",
    "      .format(\n",
    "          X_test.shape[0],\n",
    "          (y_test != gnb_pred).sum(),\n",
    "          100*(1-(y_test != gnb_pred).sum()/X_test.shape[0])\n",
    "))"
   ]
  },
  {
   "cell_type": "code",
   "execution_count": 152,
   "metadata": {},
   "outputs": [
    {
     "data": {
      "image/png": "[encoded data removed]",
      "text/plain": [
       "<Figure size 576x432 with 2 Axes>"
      ]
     },
     "metadata": {
      "needs_background": "light"
     },
     "output_type": "display_data"
    }
   ],
   "source": [
    "# Making the Confusion Matrix\n",
    "cm = confusion_matrix(y_test, gnb_pred)\n",
    "\n",
    "plot_confusion_matrix(cm, normalize    = False,\n",
    "                      target_names = ['no', 'yes'],\n",
    "                      title        = \"Confusion Matrix\")"
   ]
  },
  {
   "cell_type": "markdown",
   "metadata": {},
   "source": [
    "## KNN"
   ]
  },
  {
   "cell_type": "code",
   "execution_count": 153,
   "metadata": {},
   "outputs": [
    {
     "name": "stdout",
     "output_type": "stream",
     "text": [
      "Accuracy: 0.891832229580574\n"
     ]
    }
   ],
   "source": [
    "knn = KNeighborsClassifier(n_neighbors=5)\n",
    "\n",
    "knn.fit(X_train, y_train)\n",
    "\n",
    "knn_pred = knn.predict(X_test)\n",
    "\n",
    "print(\"Accuracy:\", accuracy_score(y_test, knn_pred))"
   ]
  },
  {
   "cell_type": "code",
   "execution_count": 154,
   "metadata": {},
   "outputs": [
    {
     "data": {
      "image/png": "[encoded data removed]",
      "text/plain": [
       "<Figure size 576x432 with 2 Axes>"
      ]
     },
     "metadata": {
      "needs_background": "light"
     },
     "output_type": "display_data"
    }
   ],
   "source": [
    "# Making the Confusion Matrix\n",
    "cm = confusion_matrix(y_test, knn_pred)\n",
    "plot_confusion_matrix(cm, normalize    = False,\n",
    "                      target_names = ['no', 'yes'],\n",
    "                      title        = \"Confusion Matrix\")"
   ]
  },
  {
   "cell_type": "markdown",
   "metadata": {},
   "source": [
    "## RNA"
   ]
  },
  {
   "cell_type": "code",
   "execution_count": 174,
   "metadata": {},
   "outputs": [
    {
     "name": "stdout",
     "output_type": "stream",
     "text": [
      "Train on 4068 samples, validate on 453 samples\n",
      "Epoch 1/100\n",
      " - 2s - loss: 0.3107 - acc: 0.8707 - val_loss: 0.2586 - val_acc: 0.9073\n",
      "Epoch 2/100\n",
      " - 1s - loss: 0.2402 - acc: 0.8948 - val_loss: 0.2430 - val_acc: 0.9073\n",
      "Epoch 3/100\n",
      " - 1s - loss: 0.2242 - acc: 0.9059 - val_loss: 0.2454 - val_acc: 0.8918\n",
      "Epoch 4/100\n",
      " - 1s - loss: 0.2153 - acc: 0.9100 - val_loss: 0.2436 - val_acc: 0.9007\n",
      "Epoch 5/100\n",
      " - 1s - loss: 0.2084 - acc: 0.9115 - val_loss: 0.2445 - val_acc: 0.8962\n",
      "Epoch 6/100\n",
      " - 1s - loss: 0.2038 - acc: 0.9110 - val_loss: 0.2446 - val_acc: 0.8985\n",
      "Epoch 7/100\n",
      " - 1s - loss: 0.1978 - acc: 0.9162 - val_loss: 0.2457 - val_acc: 0.9073\n",
      "Epoch 8/100\n",
      " - 1s - loss: 0.1934 - acc: 0.9221 - val_loss: 0.2474 - val_acc: 0.9007\n",
      "Epoch 9/100\n",
      " - 1s - loss: 0.1883 - acc: 0.9191 - val_loss: 0.2504 - val_acc: 0.9073\n",
      "Epoch 10/100\n",
      " - 1s - loss: 0.1830 - acc: 0.9240 - val_loss: 0.2653 - val_acc: 0.9051\n",
      "Epoch 11/100\n",
      " - 1s - loss: 0.1800 - acc: 0.9240 - val_loss: 0.2535 - val_acc: 0.9095\n",
      "Epoch 12/100\n",
      " - 1s - loss: 0.1754 - acc: 0.9255 - val_loss: 0.2577 - val_acc: 0.8985\n",
      "Epoch 13/100\n",
      " - 1s - loss: 0.1718 - acc: 0.9297 - val_loss: 0.2650 - val_acc: 0.9029\n",
      "Epoch 14/100\n",
      " - 1s - loss: 0.1672 - acc: 0.9329 - val_loss: 0.2681 - val_acc: 0.9007\n",
      "Epoch 15/100\n",
      " - 1s - loss: 0.1635 - acc: 0.9329 - val_loss: 0.2696 - val_acc: 0.9073\n",
      "Epoch 16/100\n",
      " - 1s - loss: 0.1594 - acc: 0.9336 - val_loss: 0.2715 - val_acc: 0.8962\n",
      "Epoch 17/100\n",
      " - 1s - loss: 0.1549 - acc: 0.9381 - val_loss: 0.2694 - val_acc: 0.9073\n",
      "Epoch 18/100\n",
      " - 1s - loss: 0.1535 - acc: 0.9358 - val_loss: 0.2846 - val_acc: 0.8985\n",
      "Epoch 19/100\n",
      " - 1s - loss: 0.1505 - acc: 0.9395 - val_loss: 0.2838 - val_acc: 0.9073\n",
      "Epoch 20/100\n",
      " - 1s - loss: 0.1464 - acc: 0.9398 - val_loss: 0.2880 - val_acc: 0.9029\n",
      "Epoch 21/100\n",
      " - 1s - loss: 0.1433 - acc: 0.9415 - val_loss: 0.2832 - val_acc: 0.9029\n",
      "Epoch 22/100\n",
      " - 1s - loss: 0.1397 - acc: 0.9447 - val_loss: 0.3020 - val_acc: 0.9007\n",
      "Epoch 23/100\n",
      " - 1s - loss: 0.1372 - acc: 0.9462 - val_loss: 0.2975 - val_acc: 0.9139\n",
      "Epoch 24/100\n",
      " - 1s - loss: 0.1354 - acc: 0.9449 - val_loss: 0.3038 - val_acc: 0.8918\n",
      "Epoch 25/100\n",
      " - 1s - loss: 0.1311 - acc: 0.9506 - val_loss: 0.3116 - val_acc: 0.9007\n",
      "Epoch 26/100\n",
      " - 1s - loss: 0.1285 - acc: 0.9491 - val_loss: 0.3197 - val_acc: 0.8985\n",
      "Epoch 27/100\n",
      " - 1s - loss: 0.1257 - acc: 0.9484 - val_loss: 0.3307 - val_acc: 0.8940\n",
      "Epoch 28/100\n",
      " - 1s - loss: 0.1230 - acc: 0.9484 - val_loss: 0.3287 - val_acc: 0.8962\n",
      "Epoch 29/100\n",
      " - 1s - loss: 0.1211 - acc: 0.9545 - val_loss: 0.3372 - val_acc: 0.9029\n",
      "Epoch 30/100\n",
      " - 1s - loss: 0.1181 - acc: 0.9538 - val_loss: 0.3258 - val_acc: 0.9007\n",
      "Epoch 31/100\n",
      " - 1s - loss: 0.1149 - acc: 0.9558 - val_loss: 0.3440 - val_acc: 0.8896\n",
      "Epoch 32/100\n",
      " - 1s - loss: 0.1125 - acc: 0.9550 - val_loss: 0.3470 - val_acc: 0.8808\n",
      "Epoch 33/100\n",
      " - 1s - loss: 0.1092 - acc: 0.9589 - val_loss: 0.3467 - val_acc: 0.8940\n",
      "Epoch 34/100\n",
      " - 1s - loss: 0.1079 - acc: 0.9580 - val_loss: 0.3531 - val_acc: 0.9095\n",
      "Epoch 35/100\n",
      " - 1s - loss: 0.1042 - acc: 0.9594 - val_loss: 0.3614 - val_acc: 0.8962\n",
      "Epoch 36/100\n",
      " - 1s - loss: 0.1035 - acc: 0.9602 - val_loss: 0.3541 - val_acc: 0.8985\n",
      "Epoch 37/100\n",
      " - 1s - loss: 0.1009 - acc: 0.9619 - val_loss: 0.3603 - val_acc: 0.8962\n",
      "Epoch 38/100\n",
      " - 1s - loss: 0.0974 - acc: 0.9656 - val_loss: 0.3865 - val_acc: 0.8874\n",
      "Epoch 39/100\n",
      " - 1s - loss: 0.0976 - acc: 0.9636 - val_loss: 0.3652 - val_acc: 0.8874\n",
      "Epoch 40/100\n",
      " - 1s - loss: 0.0959 - acc: 0.9624 - val_loss: 0.3701 - val_acc: 0.9029\n",
      "Epoch 41/100\n",
      " - 1s - loss: 0.0937 - acc: 0.9629 - val_loss: 0.3898 - val_acc: 0.9007\n",
      "Epoch 42/100\n",
      " - 1s - loss: 0.0908 - acc: 0.9680 - val_loss: 0.3920 - val_acc: 0.8940\n",
      "Epoch 43/100\n",
      " - 1s - loss: 0.0890 - acc: 0.9678 - val_loss: 0.3789 - val_acc: 0.8874\n",
      "Epoch 44/100\n",
      " - 1s - loss: 0.0863 - acc: 0.9656 - val_loss: 0.3945 - val_acc: 0.8940\n",
      "Epoch 45/100\n",
      " - 1s - loss: 0.0854 - acc: 0.9688 - val_loss: 0.3902 - val_acc: 0.8874\n",
      "Epoch 46/100\n",
      " - 1s - loss: 0.0830 - acc: 0.9676 - val_loss: 0.3971 - val_acc: 0.8764\n",
      "Epoch 47/100\n",
      " - 1s - loss: 0.0813 - acc: 0.9703 - val_loss: 0.3948 - val_acc: 0.8940\n",
      "Epoch 48/100\n",
      " - 1s - loss: 0.0797 - acc: 0.9730 - val_loss: 0.4102 - val_acc: 0.9073\n",
      "Epoch 49/100\n",
      " - 1s - loss: 0.0765 - acc: 0.9717 - val_loss: 0.3933 - val_acc: 0.8940\n",
      "Epoch 50/100\n",
      " - 1s - loss: 0.0752 - acc: 0.9739 - val_loss: 0.4031 - val_acc: 0.8962\n",
      "Epoch 51/100\n",
      " - 1s - loss: 0.0741 - acc: 0.9739 - val_loss: 0.4121 - val_acc: 0.9029\n",
      "Epoch 52/100\n",
      " - 1s - loss: 0.0724 - acc: 0.9759 - val_loss: 0.4316 - val_acc: 0.8852\n",
      "Epoch 53/100\n",
      " - 1s - loss: 0.0691 - acc: 0.9774 - val_loss: 0.4293 - val_acc: 0.9007\n",
      "Epoch 54/100\n",
      " - 1s - loss: 0.0695 - acc: 0.9759 - val_loss: 0.4181 - val_acc: 0.8940\n",
      "Epoch 55/100\n",
      " - 1s - loss: 0.0684 - acc: 0.9771 - val_loss: 0.4342 - val_acc: 0.8962\n",
      "Epoch 56/100\n",
      " - 1s - loss: 0.0638 - acc: 0.9764 - val_loss: 0.4338 - val_acc: 0.9007\n",
      "Epoch 57/100\n",
      " - 1s - loss: 0.0643 - acc: 0.9779 - val_loss: 0.4316 - val_acc: 0.9029\n",
      "Epoch 58/100\n",
      " - 1s - loss: 0.0607 - acc: 0.9801 - val_loss: 0.4363 - val_acc: 0.8896\n",
      "Epoch 59/100\n",
      " - 1s - loss: 0.0623 - acc: 0.9791 - val_loss: 0.4529 - val_acc: 0.8874\n",
      "Epoch 60/100\n",
      " - 1s - loss: 0.0599 - acc: 0.9806 - val_loss: 0.4660 - val_acc: 0.8896\n",
      "Epoch 61/100\n",
      " - 1s - loss: 0.0576 - acc: 0.9791 - val_loss: 0.4461 - val_acc: 0.9051\n",
      "Epoch 62/100\n",
      " - 1s - loss: 0.0570 - acc: 0.9821 - val_loss: 0.4527 - val_acc: 0.9007\n",
      "Epoch 63/100\n",
      " - 1s - loss: 0.0540 - acc: 0.9830 - val_loss: 0.4696 - val_acc: 0.8918\n",
      "Epoch 64/100\n",
      " - 1s - loss: 0.0537 - acc: 0.9823 - val_loss: 0.4656 - val_acc: 0.9073\n",
      "Epoch 65/100\n",
      " - 1s - loss: 0.0525 - acc: 0.9840 - val_loss: 0.4619 - val_acc: 0.9029\n",
      "Epoch 66/100\n",
      " - 1s - loss: 0.0513 - acc: 0.9840 - val_loss: 0.4933 - val_acc: 0.8830\n",
      "Epoch 67/100\n",
      " - 1s - loss: 0.0523 - acc: 0.9840 - val_loss: 0.4917 - val_acc: 0.8940\n",
      "Epoch 68/100\n",
      " - 1s - loss: 0.0502 - acc: 0.9828 - val_loss: 0.4796 - val_acc: 0.8786\n",
      "Epoch 69/100\n",
      " - 1s - loss: 0.0467 - acc: 0.9848 - val_loss: 0.4863 - val_acc: 0.8985\n",
      "Epoch 70/100\n",
      " - 1s - loss: 0.0475 - acc: 0.9855 - val_loss: 0.5015 - val_acc: 0.8962\n",
      "Epoch 71/100\n",
      " - 1s - loss: 0.0450 - acc: 0.9865 - val_loss: 0.4934 - val_acc: 0.8918\n",
      "Epoch 72/100\n",
      " - 1s - loss: 0.0452 - acc: 0.9848 - val_loss: 0.5217 - val_acc: 0.8874\n",
      "Epoch 73/100\n",
      " - 1s - loss: 0.0427 - acc: 0.9884 - val_loss: 0.5008 - val_acc: 0.8874\n",
      "Epoch 74/100\n",
      " - 1s - loss: 0.0443 - acc: 0.9862 - val_loss: 0.5240 - val_acc: 0.8786\n",
      "Epoch 75/100\n",
      " - 1s - loss: 0.0421 - acc: 0.9872 - val_loss: 0.5328 - val_acc: 0.8874\n",
      "Epoch 76/100\n",
      " - 1s - loss: 0.0418 - acc: 0.9865 - val_loss: 0.5252 - val_acc: 0.8962\n",
      "Epoch 77/100\n",
      " - 1s - loss: 0.0409 - acc: 0.9872 - val_loss: 0.5491 - val_acc: 0.9029\n",
      "Epoch 78/100\n",
      " - 1s - loss: 0.0392 - acc: 0.9875 - val_loss: 0.5159 - val_acc: 0.9051\n",
      "Epoch 79/100\n",
      " - 1s - loss: 0.0376 - acc: 0.9902 - val_loss: 0.5295 - val_acc: 0.8896\n",
      "Epoch 80/100\n",
      " - 1s - loss: 0.0368 - acc: 0.9902 - val_loss: 0.5316 - val_acc: 0.9073\n",
      "Epoch 81/100\n",
      " - 1s - loss: 0.0342 - acc: 0.9907 - val_loss: 0.5461 - val_acc: 0.9073\n",
      "Epoch 82/100\n",
      " - 1s - loss: 0.0365 - acc: 0.9887 - val_loss: 0.5494 - val_acc: 0.8962\n",
      "Epoch 83/100\n",
      " - 1s - loss: 0.0346 - acc: 0.9894 - val_loss: 0.5678 - val_acc: 0.8764\n",
      "Epoch 84/100\n",
      " - 1s - loss: 0.0334 - acc: 0.9902 - val_loss: 0.5550 - val_acc: 0.9051\n",
      "Epoch 85/100\n",
      " - 1s - loss: 0.0330 - acc: 0.9914 - val_loss: 0.5870 - val_acc: 0.8918\n",
      "Epoch 86/100\n",
      " - 1s - loss: 0.0314 - acc: 0.9899 - val_loss: 0.5846 - val_acc: 0.8940\n",
      "Epoch 87/100\n",
      " - 1s - loss: 0.0324 - acc: 0.9902 - val_loss: 0.5950 - val_acc: 0.8764\n",
      "Epoch 88/100\n",
      " - 1s - loss: 0.0315 - acc: 0.9907 - val_loss: 0.5840 - val_acc: 0.8896\n",
      "Epoch 89/100\n",
      " - 1s - loss: 0.0288 - acc: 0.9916 - val_loss: 0.6065 - val_acc: 0.9007\n",
      "Epoch 90/100\n",
      " - 1s - loss: 0.0313 - acc: 0.9884 - val_loss: 0.6204 - val_acc: 0.8786\n",
      "Epoch 91/100\n",
      " - 1s - loss: 0.0293 - acc: 0.9902 - val_loss: 0.5944 - val_acc: 0.8940\n",
      "Epoch 92/100\n",
      " - 1s - loss: 0.0295 - acc: 0.9912 - val_loss: 0.6220 - val_acc: 0.8918\n",
      "Epoch 93/100\n",
      " - 1s - loss: 0.0272 - acc: 0.9914 - val_loss: 0.6167 - val_acc: 0.8918\n",
      "Epoch 94/100\n",
      " - 1s - loss: 0.0306 - acc: 0.9887 - val_loss: 0.6069 - val_acc: 0.8852\n",
      "Epoch 95/100\n",
      " - 1s - loss: 0.0253 - acc: 0.9929 - val_loss: 0.6211 - val_acc: 0.8962\n",
      "Epoch 96/100\n",
      " - 1s - loss: 0.0245 - acc: 0.9934 - val_loss: 0.6271 - val_acc: 0.8896\n"
     ]
    },
    {
     "name": "stdout",
     "output_type": "stream",
     "text": [
      "Epoch 97/100\n",
      " - 1s - loss: 0.0282 - acc: 0.9907 - val_loss: 0.6161 - val_acc: 0.8918\n",
      "Epoch 98/100\n",
      " - 1s - loss: 0.0243 - acc: 0.9919 - val_loss: 0.6451 - val_acc: 0.8720\n",
      "Epoch 99/100\n",
      " - 1s - loss: 0.0264 - acc: 0.9919 - val_loss: 0.6434 - val_acc: 0.8962\n",
      "Epoch 100/100\n",
      " - 1s - loss: 0.0248 - acc: 0.9919 - val_loss: 0.6294 - val_acc: 0.9051\n",
      "453/453 [==============================] - 0s 57us/step\n",
      "Score:  [0.6293533822032263, 0.9050772628247343]\n"
     ]
    }
   ],
   "source": [
    "rna = Sequential()\n",
    "\n",
    "# Add an input layer \n",
    "rna.add(Dense(24, activation='relu', input_shape=(48,)))\n",
    "\n",
    "# Add an hidden layer \n",
    "rna.add(Dense(24, activation='relu'))\n",
    "\n",
    "# Add an output layer \n",
    "rna.add(Dense(1, activation='sigmoid'))\n",
    "\n",
    "# For a binary classification problem\n",
    "rna.compile(optimizer='adam',\n",
    "              loss='binary_crossentropy',\n",
    "              metrics=['accuracy'])\n",
    "\n",
    "rna.fit(X_train, y_train, \n",
    "        validation_data=(X_test, y_test),\n",
    "        batch_size = 10,\n",
    "        epochs=100,\n",
    "        verbose=2)\n",
    "score = rna.evaluate(X_test, y_test)\n",
    "print('Score: ', score)\n"
   ]
  },
  {
   "cell_type": "code",
   "execution_count": 175,
   "metadata": {},
   "outputs": [
    {
     "data": {
      "image/png": "[encoded data removed]",
      "text/plain": [
       "<Figure size 576x432 with 2 Axes>"
      ]
     },
     "metadata": {
      "needs_background": "light"
     },
     "output_type": "display_data"
    }
   ],
   "source": [
    "rna_pred = rna.predict(X_test)\n",
    "\n",
    "# Making the Confusion Matrix\n",
    "cm = confusion_matrix(y_test, rna_pred.round())\n",
    "plot_confusion_matrix(cm, normalize    = False,\n",
    "                      target_names = ['no', 'yes'],\n",
    "                      title        = \"Confusion Matrix\")\n"
   ]
  },
  {
   "cell_type": "markdown",
   "metadata": {},
   "source": [
    "## Random Forest"
   ]
  },
  {
   "cell_type": "code",
   "execution_count": 176,
   "metadata": {},
   "outputs": [
    {
     "name": "stdout",
     "output_type": "stream",
     "text": [
      "Score:  0.98992133726647\n"
     ]
    }
   ],
   "source": [
    "rfc = RandomForestClassifier(n_estimators=10, criterion='entropy')\n",
    "\n",
    "#train model\n",
    "rfc.fit(X_train, y_train)\n",
    "\n",
    "print('Score: ', rfc.score(X_train, y_train))"
   ]
  },
  {
   "cell_type": "code",
   "execution_count": 177,
   "metadata": {},
   "outputs": [
    {
     "data": {
      "image/png": "[encoded data removed]",
      "text/plain": [
       "<Figure size 576x432 with 2 Axes>"
      ]
     },
     "metadata": {
      "needs_background": "light"
     },
     "output_type": "display_data"
    },
    {
     "name": "stdout",
     "output_type": "stream",
     "text": [
      "Accuracy: 0.9072847682119205\n",
      "0.8933150191452774 0.9905358027978327\n",
      "Score:  [0.6293533822032263, 0.9050772628247343]\n"
     ]
    }
   ],
   "source": [
    "rfc_pred = rfc.predict(X_test)\n",
    "\n",
    "# Making the Confusion Matrix\n",
    "cm = confusion_matrix(y_test, rfc_pred)\n",
    "plot_confusion_matrix(cm, normalize    = False,\n",
    "                      target_names = ['no', 'yes'],\n",
    "                      title        = \"Confusion Matrix\")\n",
    "\n",
    "print(\"Accuracy:\", accuracy_score(y_test, rfc_pred))\n",
    "\n",
    "rfc_results = cross_validate(rfc, X_train, y_train, cv=5, return_train_score=True)\n",
    "print(np.mean(rfc_results['test_score']), np.mean(rfc_results['train_score']))\n",
    "print('Score: ', score)\n",
    "\n"
   ]
  },
  {
   "cell_type": "markdown",
   "metadata": {},
   "source": [
    "## Maquinas de Soporte Vectorial con kernel lineal y con kernel RBF"
   ]
  },
  {
   "cell_type": "code",
   "execution_count": 178,
   "metadata": {},
   "outputs": [
    {
     "name": "stdout",
     "output_type": "stream",
     "text": [
      "Score:  0.8923303834808259\n"
     ]
    }
   ],
   "source": [
    "# Lineal\n",
    "\n",
    "linear = svm.SVC(C=1, kernel='linear')\n",
    "linear.fit(X_train, y_train)\n",
    "print('Score: ', linear.score(X_train, y_train))\n"
   ]
  },
  {
   "cell_type": "code",
   "execution_count": 179,
   "metadata": {},
   "outputs": [
    {
     "data": {
      "image/png": "[encoded data removed]",
      "text/plain": [
       "<Figure size 576x432 with 2 Axes>"
      ]
     },
     "metadata": {
      "needs_background": "light"
     },
     "output_type": "display_data"
    }
   ],
   "source": [
    "linear_pred = linear.predict(X_test)\n",
    "# Making the Confusion Matrix\n",
    "cm = confusion_matrix(y_test, rfc_pred)\n",
    "plot_confusion_matrix(cm, normalize    = False,\n",
    "                      target_names = ['no', 'yes'],\n",
    "                      title        = \"Confusion Matrix\")"
   ]
  },
  {
   "cell_type": "code",
   "execution_count": 181,
   "metadata": {},
   "outputs": [
    {
     "name": "stdout",
     "output_type": "stream",
     "text": [
      "Score:  0.8994591937069814\n"
     ]
    }
   ],
   "source": [
    "#RBF\n",
    "\n",
    "rbf = svm.SVC(C=1, kernel='rbf', gamma='auto')\n",
    "rbf.fit(X_train, y_train)\n",
    "print('Score: ', rbf.score(X_train, y_train))\n"
   ]
  },
  {
   "cell_type": "code",
   "execution_count": 182,
   "metadata": {},
   "outputs": [
    {
     "data": {
      "image/png": "[encoded data removed]",
      "text/plain": [
       "<Figure size 576x432 with 2 Axes>"
      ]
     },
     "metadata": {
      "needs_background": "light"
     },
     "output_type": "display_data"
    }
   ],
   "source": [
    "rbf_pred = rbf.predict(X_test)\n",
    "# Making the Confusion Matrix\n",
    "cm = confusion_matrix(y_test, rfc_pred)\n",
    "plot_confusion_matrix(cm, normalize    = False,\n",
    "                      target_names = ['no', 'yes'],\n",
    "                      title        = \"Confusion Matrix\")"
   ]
  },
  {
   "cell_type": "markdown",
   "metadata": {},
   "source": [
    "#### Confusion Matrix"
   ]
  },
  {
   "cell_type": "code",
   "execution_count": 118,
   "metadata": {},
   "outputs": [],
   "source": [
    "def plot_confusion_matrix(cm,\n",
    "                          target_names,\n",
    "                          title='Confusion matrix',\n",
    "                          cmap=None,\n",
    "                          normalize=True):\n",
    "    \"\"\"\n",
    "    given a sklearn confusion matrix (cm), make a nice plot\n",
    "\n",
    "    Arguments\n",
    "    ---------\n",
    "    cm:           confusion matrix from sklearn.metrics.confusion_matrix\n",
    "\n",
    "    target_names: given classification classes such as [0, 1, 2]\n",
    "                  the class names, for example: ['high', 'medium', 'low']\n",
    "\n",
    "    title:        the text to display at the top of the matrix\n",
    "\n",
    "    cmap:         the gradient of the values displayed from matplotlib.pyplot.cm\n",
    "                  see http://matplotlib.org/examples/color/colormaps_reference.html\n",
    "                  plt.get_cmap('jet') or plt.cm.Blues\n",
    "\n",
    "    normalize:    If False, plot the raw numbers\n",
    "                  If True, plot the proportions\n",
    "\n",
    "    Usage\n",
    "    -----\n",
    "    plot_confusion_matrix(cm           = cm,                  # confusion matrix created by\n",
    "                                                              # sklearn.metrics.confusion_matrix\n",
    "                          normalize    = True,                # show proportions\n",
    "                          target_names = y_labels_vals,       # list of names of the classes\n",
    "                          title        = best_estimator_name) # title of graph\n",
    "\n",
    "    Citiation\n",
    "    ---------\n",
    "    http://scikit-learn.org/stable/auto_examples/model_selection/plot_confusion_matrix.html\n",
    "\n",
    "    \"\"\"\n",
    "    import matplotlib.pyplot as plt\n",
    "    import numpy as np\n",
    "    import itertools\n",
    "\n",
    "    accuracy = np.trace(cm) / float(np.sum(cm))\n",
    "    misclass = 1 - accuracy\n",
    "\n",
    "    if cmap is None:\n",
    "        cmap = plt.get_cmap('Blues')\n",
    "\n",
    "    plt.figure(figsize=(8, 6))\n",
    "    plt.imshow(cm, interpolation='nearest', cmap=cmap)\n",
    "    plt.title(title)\n",
    "    plt.colorbar()\n",
    "\n",
    "    if target_names is not None:\n",
    "        tick_marks = np.arange(len(target_names))\n",
    "        plt.xticks(tick_marks, target_names, rotation=45)\n",
    "        plt.yticks(tick_marks, target_names)\n",
    "\n",
    "    if normalize:\n",
    "        cm = cm.astype('float') / cm.sum(axis=1)[:, np.newaxis]\n",
    "\n",
    "\n",
    "    thresh = cm.max() / 1.5 if normalize else cm.max() / 2\n",
    "    for i, j in itertools.product(range(cm.shape[0]), range(cm.shape[1])):\n",
    "        if normalize:\n",
    "            plt.text(j, i, \"{:0.4f}\".format(cm[i, j]),\n",
    "                     horizontalalignment=\"center\",\n",
    "                     color=\"white\" if cm[i, j] > thresh else \"black\")\n",
    "        else:\n",
    "            plt.text(j, i, \"{:,}\".format(cm[i, j]),\n",
    "                     horizontalalignment=\"center\",\n",
    "                     color=\"white\" if cm[i, j] > thresh else \"black\")\n",
    "\n",
    "\n",
    "    plt.tight_layout()\n",
    "    plt.ylabel('True label')\n",
    "    plt.xlabel('Predicted label\\naccuracy={:0.4f}; misclass={:0.4f}'.format(accuracy, misclass))\n",
    "    plt.show()"
   ]
  },
  {
   "cell_type": "code",
   "execution_count": null,
   "metadata": {},
   "outputs": [],
   "source": []
  }
 ],
 "metadata": {
  "kernelspec": {
   "display_name": "Python 3",
   "language": "python",
   "name": "python3"
  },
  "language_info": {
   "codemirror_mode": {
    "name": "ipython",
    "version": 3
   },
   "file_extension": ".py",
   "mimetype": "text/x-python",
   "name": "python",
   "nbconvert_exporter": "python",
   "pygments_lexer": "ipython3",
   "version": "3.7.1"
  }
 },
 "nbformat": 4,
 "nbformat_minor": 2
}
