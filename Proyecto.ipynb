{
 "cells": [
  {
   "cell_type": "markdown",
   "metadata": {},
   "source": [
    "## 1. Carga de librerias\n"
   ]
  },
  {
   "cell_type": "code",
   "execution_count": null,
   "metadata": {},
   "outputs": [],
   "source": [
    "! python -m pip install --upgrade pip\n",
    "! pip install keras\n",
    "! pip install tensorflow"
   ]
  },
  {
   "cell_type": "code",
   "execution_count": 2,
   "metadata": {},
   "outputs": [
    {
     "name": "stderr",
     "output_type": "stream",
     "text": [
      "Using TensorFlow backend.\n"
     ]
    }
   ],
   "source": [
    "### General\n",
    "import numpy as np\n",
    "import matplotlib.pyplot as plt\n",
    "import seaborn as sns\n",
    "import pandas as pd\n",
    "from sklearn.model_selection import KFold\n",
    "from sklearn.model_selection import train_test_split\n",
    "from sklearn.multioutput import MultiOutputClassifier\n",
    "from sklearn.model_selection import cross_validate\n",
    "from sklearn import preprocessing\n",
    "import math\n",
    "from sklearn.metrics import confusion_matrix, precision_score, accuracy_score\n",
    "import tensorflow as tf\n",
    "\n",
    "### Error\n",
    "## ECM\n",
    "from sklearn.metrics import mean_squared_error\n",
    "## Coeficiente de determinacion\n",
    "from sklearn.metrics import r2_score\n",
    "## Varianza explicada\n",
    "from sklearn.metrics import explained_variance_score\n",
    "## Naive Bayes \n",
    "from sklearn.naive_bayes import GaussianNB, BernoulliNB, MultinomialNB\n",
    "## KNN\n",
    "from sklearn.neighbors import KNeighborsClassifier\n",
    "### Redes Neuronales Artificiales\n",
    "from keras.models import Sequential\n",
    "from keras.layers import Dense, Activation, Dropout\n",
    "from keras.utils import np_utils\n",
    "from keras.wrappers.scikit_learn import KerasClassifier\n",
    "### Random Forest\n",
    "from sklearn.ensemble import RandomForestClassifier\n",
    "### Vectores de soporte\n",
    "from sklearn import svm"
   ]
  },
  {
   "cell_type": "markdown",
   "metadata": {},
   "source": [
    "## 2. Carga de la base de datos\n",
    "\n",
    "#### Características: \n",
    "- Variables de entrada:\n",
    " - ##### Datos del cliente del banco:\n",
    "   1. age (numérica)\n",
    "   2. job : tipo de empleo (categórica: \"admin.\",\"unknown\",\"unemployed\",\"management\",\"housemaid\",\"entrepreneur\",\"student\",     \"blue-collar\",\"self-employed\",\"retired\",\"technician\",\"services\") \n",
    "   3. marital : estado civil (categórica: \"married\",\"divorced\",\"single\"; nota: \"divorced\" aplica para divorciado o viudo)\n",
    "   4. education (categórica: \"unknown\",\"secondary\",\"primary\",\"tertiary\")\n",
    "   5. default: tiene credito? (binaria: \"yes\",\"no\")\n",
    "   6. balance: promedio de saldo anual en euros (numérica) \n",
    "   7. housing: tiene crédito de vivienda? (binaria: \"yes\",\"no\")\n",
    "   8. loan: tiene crédito personal? (binaria: \"yes\",\"no\")\n",
    " - ##### Datos del último contacto en relación a la actual campaña:\n",
    "   9. contact: tipo de comunicación (categórica: \"unknown\",\"telephone\",\"cellular\") \n",
    "   10. day: último día de contacto en el mes (numérica)\n",
    "   11. month: último mes de contacto del año (categórica: \"jan\", \"feb\", \"mar\", ..., \"nov\", \"dec\")\n",
    "   12. duration: última duración de contacto en segundos (numérica)\n",
    " - ##### Otros atributos:\n",
    "   13. campaign: número de contactos realizados durante la campaña para este cliente (numérica, incluye último contacto)\n",
    "   14. pdays: número de dias que pasaron después de que el cliente fué contactado desde una campaña anterior (numérica, -1 significa que el cliente no había sido previamente contactado)\n",
    "   15. previous: número de contactos realizados antes de la campaña actual para este cliente (numérica)\n",
    "   16. poutcome: resultado de la campaña anterior (categórica: \"unknown\",\"other\",\"failure\",\"success\")\n",
    "   \n",
    "   \n",
    "- Variable de salida (objetivo deseado):\n",
    "\n",
    "   17. y: se suscribió el cliente al depósito a término fijo? (binaria: \"yes\",\"no\")\n",
    "\n",
    "\n",
    "- Datos faltantes: nunguno"
   ]
  },
  {
   "cell_type": "code",
   "execution_count": 3,
   "metadata": {
    "scrolled": true
   },
   "outputs": [
    {
     "name": "stdout",
     "output_type": "stream",
     "text": [
      "(4521, 52)\n",
      "(4521, 51)\n",
      "(4521,)\n",
      "Datos con salida yes:  (521, 52)\n",
      "Datos con salida no: (4000, 52)\n"
     ]
    }
   ],
   "source": [
    "database = pd.read_csv(\"data/bank.csv\", delimiter=\";\",header='infer')\n",
    "\n",
    "#job = ['admin.', 'unknown', 'unemployed', 'management', 'housemaid', 'entrepreneur', 'student', \n",
    "#       'blue-collar', 'self-employed', 'retired', 'technician', 'services']\n",
    "#marital = ['married', 'divorced', 'single']\n",
    "#education =['unknown', 'secondary', 'primary', 'tertiary']\n",
    "#default = ['yes', 'no']\n",
    "#housing = ['yes', 'no']\n",
    "#loan = ['yes', 'no']\n",
    "#contact = ['unknown', 'telephone', 'cellular']\n",
    "#month = ['jan', 'feb', 'mar', 'apr', 'jun', 'jul', 'aug', 'sep', 'oct' 'nov', 'dec']\n",
    "#poutcome = ['unknown', 'other', 'failure', 'success']\n",
    "\n",
    "data_encoded = pd.get_dummies(database, columns=['job','marital',\n",
    "                                         'education','default',\n",
    "                                         'housing','loan',\n",
    "                                         'contact','month',\n",
    "                                         'poutcome'])\n",
    "\n",
    "# Convertir salida a binario\n",
    "data_encoded.y.replace(('yes', 'no'), (1, 0), inplace=True)\n",
    "\n",
    "data = data_encoded.iloc[:,0:51]\n",
    "target = data_encoded.iloc[:,-1]\n",
    "\n",
    "print(data_encoded.shape)\n",
    "print(data.shape)\n",
    "print(target.shape)\n",
    "\n",
    "data_yes = data_encoded.loc[data_encoded['y'] == 1]\n",
    "data_no = data_encoded.loc[data_encoded['y'] == 0]\n",
    "\n",
    "print('Datos con salida yes: ', data_yes.shape)\n",
    "print('Datos con salida no:', data_no.shape)\n",
    "\n",
    "# Dividir en conjuntos de entrenamiento y pruebas\n",
    "X_train, X_test, y_train, y_test = train_test_split(data, target, test_size=0.3) # 70% training and 30% test\n"
   ]
  },
  {
   "cell_type": "markdown",
   "metadata": {},
   "source": [
    "## Naive Bayes"
   ]
  },
  {
   "cell_type": "code",
   "execution_count": 4,
   "metadata": {},
   "outputs": [
    {
     "name": "stdout",
     "output_type": "stream",
     "text": [
      "Number of mislabeled points out of a total 1357 points : 3, performance 99.78%\n"
     ]
    }
   ],
   "source": [
    "## Naive Bayes \n",
    "gnb = GaussianNB()\n",
    "bnb = BernoulliNB()\n",
    "\n",
    "gnb_pred = gnb.fit(X_train, y_train).predict(X_test)\n",
    "\n",
    "print(\"Number of mislabeled points out of a total {} points : {}, performance {:05.2f}%\"\n",
    "      .format(\n",
    "          X_test.shape[0],\n",
    "          (y_test != gnb_pred).sum(),\n",
    "          100*(1-(y_test != gnb_pred).sum()/X_test.shape[0])\n",
    "))"
   ]
  },
  {
   "cell_type": "markdown",
   "metadata": {},
   "source": [
    "## KNN"
   ]
  },
  {
   "cell_type": "code",
   "execution_count": 5,
   "metadata": {},
   "outputs": [
    {
     "name": "stdout",
     "output_type": "stream",
     "text": [
      "Accuracy: 0.9683124539425203\n"
     ]
    }
   ],
   "source": [
    "knn = KNeighborsClassifier(n_neighbors=2)\n",
    "\n",
    "knn.fit(X_train, y_train)\n",
    "\n",
    "knn_pred = knn.predict(X_test)\n",
    "\n",
    "print(\"Accuracy:\", accuracy_score(y_test, knn_pred))"
   ]
  },
  {
   "cell_type": "markdown",
   "metadata": {},
   "source": [
    "## RNA"
   ]
  },
  {
   "cell_type": "code",
   "execution_count": 6,
   "metadata": {},
   "outputs": [
    {
     "name": "stdout",
     "output_type": "stream",
     "text": [
      "WARNING:tensorflow:From /home/daemonsoft/anaconda3/lib/python3.7/site-packages/tensorflow/python/framework/op_def_library.py:263: colocate_with (from tensorflow.python.framework.ops) is deprecated and will be removed in a future version.\n",
      "Instructions for updating:\n",
      "Colocations handled automatically by placer.\n",
      "WARNING:tensorflow:From /home/daemonsoft/anaconda3/lib/python3.7/site-packages/tensorflow/python/ops/math_ops.py:3066: to_int32 (from tensorflow.python.ops.math_ops) is deprecated and will be removed in a future version.\n",
      "Instructions for updating:\n",
      "Use tf.cast instead.\n",
      "Train on 3164 samples, validate on 1357 samples\n",
      "Epoch 1/20\n",
      " - 0s - loss: 1.1434 - acc: 0.9042 - val_loss: 0.7072 - val_acc: 0.9484\n",
      "Epoch 2/20\n",
      " - 0s - loss: 0.4073 - acc: 0.9655 - val_loss: 0.1494 - val_acc: 0.9867\n",
      "Epoch 3/20\n",
      " - 0s - loss: 0.4265 - acc: 0.9589 - val_loss: 0.0326 - val_acc: 0.9948\n",
      "Epoch 4/20\n",
      " - 0s - loss: 0.1885 - acc: 0.9820 - val_loss: 0.0433 - val_acc: 0.9934\n",
      "Epoch 5/20\n",
      " - 0s - loss: 0.2174 - acc: 0.9829 - val_loss: 0.0314 - val_acc: 0.9941\n",
      "Epoch 6/20\n",
      " - 0s - loss: 0.1534 - acc: 0.9861 - val_loss: 0.2840 - val_acc: 0.9786\n",
      "Epoch 7/20\n",
      " - 0s - loss: 0.1714 - acc: 0.9848 - val_loss: 2.6373 - val_acc: 0.7539\n",
      "Epoch 8/20\n",
      " - 0s - loss: 0.2351 - acc: 0.9798 - val_loss: 0.0499 - val_acc: 0.9941\n",
      "Epoch 9/20\n",
      " - 0s - loss: 0.1665 - acc: 0.9864 - val_loss: 0.0185 - val_acc: 0.9971\n",
      "Epoch 10/20\n",
      " - 0s - loss: 0.1659 - acc: 0.9845 - val_loss: 0.0199 - val_acc: 0.9971\n",
      "Epoch 11/20\n",
      " - 0s - loss: 0.1368 - acc: 0.9880 - val_loss: 0.0196 - val_acc: 0.9971\n",
      "Epoch 12/20\n",
      " - 0s - loss: 0.2314 - acc: 0.9801 - val_loss: 0.0795 - val_acc: 0.9934\n",
      "Epoch 13/20\n",
      " - 0s - loss: 0.0975 - acc: 0.9921 - val_loss: 0.0395 - val_acc: 0.9963\n",
      "Epoch 14/20\n",
      " - 0s - loss: 0.1317 - acc: 0.9886 - val_loss: 0.0336 - val_acc: 0.9963\n",
      "Epoch 15/20\n",
      " - 0s - loss: 0.0963 - acc: 0.9912 - val_loss: 0.1055 - val_acc: 0.9919\n",
      "Epoch 16/20\n",
      " - 0s - loss: 0.1794 - acc: 0.9848 - val_loss: 0.0373 - val_acc: 0.9956\n",
      "Epoch 17/20\n",
      " - 0s - loss: 0.1367 - acc: 0.9883 - val_loss: 0.0338 - val_acc: 0.9963\n",
      "Epoch 18/20\n",
      " - 0s - loss: 0.0936 - acc: 0.9912 - val_loss: 0.0353 - val_acc: 0.9963\n",
      "Epoch 19/20\n",
      " - 0s - loss: 0.1084 - acc: 0.9912 - val_loss: 0.0347 - val_acc: 0.9971\n",
      "Epoch 20/20\n",
      " - 0s - loss: 0.1538 - acc: 0.9867 - val_loss: 0.0337 - val_acc: 0.9963\n",
      "1357/1357 [==============================] - 0s 28us/step\n"
     ]
    }
   ],
   "source": [
    "model = Sequential()\n",
    "\n",
    "# Add an input layer \n",
    "model.add(Dense(64, activation='relu', input_shape=(51,)))\n",
    "\n",
    "# Add an output layer \n",
    "model.add(Dense(1, activation='sigmoid'))\n",
    "\n",
    "# For a binary classification problem\n",
    "model.compile(optimizer='rmsprop',\n",
    "              loss='binary_crossentropy',\n",
    "              metrics=['accuracy'])\n",
    "\n",
    "model.fit(X_train, y_train, \n",
    "          validation_data=(X_test, y_test),\n",
    "          epochs=20,\n",
    "          verbose=2)\n",
    "score = model.evaluate(X_test, y_test)"
   ]
  },
  {
   "cell_type": "code",
   "execution_count": 7,
   "metadata": {},
   "outputs": [
    {
     "name": "stdout",
     "output_type": "stream",
     "text": [
      "[[1.]\n",
      " [0.]\n",
      " [1.]\n",
      " ...\n",
      " [1.]\n",
      " [1.]\n",
      " [1.]]\n",
      "Score:  [0.03368849134601004, 0.9963154016212233]\n"
     ]
    },
    {
     "ename": "ValueError",
     "evalue": "Classification metrics can't handle a mix of binary and continuous targets",
     "output_type": "error",
     "traceback": [
      "\u001b[0;31m---------------------------------------------------------------------------\u001b[0m",
      "\u001b[0;31mValueError\u001b[0m                                Traceback (most recent call last)",
      "\u001b[0;32m<ipython-input-7-ee40f95720ca>\u001b[0m in \u001b[0;36m<module>\u001b[0;34m\u001b[0m\n\u001b[1;32m      4\u001b[0m \u001b[0;34m\u001b[0m\u001b[0m\n\u001b[1;32m      5\u001b[0m \u001b[0;31m# Confusion matrix\u001b[0m\u001b[0;34m\u001b[0m\u001b[0;34m\u001b[0m\u001b[0;34m\u001b[0m\u001b[0m\n\u001b[0;32m----> 6\u001b[0;31m \u001b[0mconfusion_matrix\u001b[0m\u001b[0;34m(\u001b[0m\u001b[0my_test\u001b[0m\u001b[0;34m,\u001b[0m \u001b[0my_pred\u001b[0m\u001b[0;34m)\u001b[0m\u001b[0;34m\u001b[0m\u001b[0;34m\u001b[0m\u001b[0m\n\u001b[0m\u001b[1;32m      7\u001b[0m \u001b[0;34m\u001b[0m\u001b[0m\n\u001b[1;32m      8\u001b[0m \u001b[0;31m# Precision\u001b[0m\u001b[0;34m\u001b[0m\u001b[0;34m\u001b[0m\u001b[0;34m\u001b[0m\u001b[0m\n",
      "\u001b[0;32m~/anaconda3/lib/python3.7/site-packages/sklearn/metrics/classification.py\u001b[0m in \u001b[0;36mconfusion_matrix\u001b[0;34m(y_true, y_pred, labels, sample_weight)\u001b[0m\n\u001b[1;32m    251\u001b[0m \u001b[0;34m\u001b[0m\u001b[0m\n\u001b[1;32m    252\u001b[0m     \"\"\"\n\u001b[0;32m--> 253\u001b[0;31m     \u001b[0my_type\u001b[0m\u001b[0;34m,\u001b[0m \u001b[0my_true\u001b[0m\u001b[0;34m,\u001b[0m \u001b[0my_pred\u001b[0m \u001b[0;34m=\u001b[0m \u001b[0m_check_targets\u001b[0m\u001b[0;34m(\u001b[0m\u001b[0my_true\u001b[0m\u001b[0;34m,\u001b[0m \u001b[0my_pred\u001b[0m\u001b[0;34m)\u001b[0m\u001b[0;34m\u001b[0m\u001b[0;34m\u001b[0m\u001b[0m\n\u001b[0m\u001b[1;32m    254\u001b[0m     \u001b[0;32mif\u001b[0m \u001b[0my_type\u001b[0m \u001b[0;32mnot\u001b[0m \u001b[0;32min\u001b[0m \u001b[0;34m(\u001b[0m\u001b[0;34m\"binary\"\u001b[0m\u001b[0;34m,\u001b[0m \u001b[0;34m\"multiclass\"\u001b[0m\u001b[0;34m)\u001b[0m\u001b[0;34m:\u001b[0m\u001b[0;34m\u001b[0m\u001b[0;34m\u001b[0m\u001b[0m\n\u001b[1;32m    255\u001b[0m         \u001b[0;32mraise\u001b[0m \u001b[0mValueError\u001b[0m\u001b[0;34m(\u001b[0m\u001b[0;34m\"%s is not supported\"\u001b[0m \u001b[0;34m%\u001b[0m \u001b[0my_type\u001b[0m\u001b[0;34m)\u001b[0m\u001b[0;34m\u001b[0m\u001b[0;34m\u001b[0m\u001b[0m\n",
      "\u001b[0;32m~/anaconda3/lib/python3.7/site-packages/sklearn/metrics/classification.py\u001b[0m in \u001b[0;36m_check_targets\u001b[0;34m(y_true, y_pred)\u001b[0m\n\u001b[1;32m     79\u001b[0m     \u001b[0;32mif\u001b[0m \u001b[0mlen\u001b[0m\u001b[0;34m(\u001b[0m\u001b[0my_type\u001b[0m\u001b[0;34m)\u001b[0m \u001b[0;34m>\u001b[0m \u001b[0;36m1\u001b[0m\u001b[0;34m:\u001b[0m\u001b[0;34m\u001b[0m\u001b[0;34m\u001b[0m\u001b[0m\n\u001b[1;32m     80\u001b[0m         raise ValueError(\"Classification metrics can't handle a mix of {0} \"\n\u001b[0;32m---> 81\u001b[0;31m                          \"and {1} targets\".format(type_true, type_pred))\n\u001b[0m\u001b[1;32m     82\u001b[0m \u001b[0;34m\u001b[0m\u001b[0m\n\u001b[1;32m     83\u001b[0m     \u001b[0;31m# We can't have more than one value on y_type => The set is no more needed\u001b[0m\u001b[0;34m\u001b[0m\u001b[0;34m\u001b[0m\u001b[0;34m\u001b[0m\u001b[0m\n",
      "\u001b[0;31mValueError\u001b[0m: Classification metrics can't handle a mix of binary and continuous targets"
     ]
    }
   ],
   "source": [
    "y_pred = model.predict(X_test)\n",
    "print(y_pred)\n",
    "print('Score: ', score)\n",
    "\n",
    "# Confusion matrix\n",
    "confusion_matrix(y_test, y_pred)\n",
    "\n",
    "# Precision \n",
    "precision_score(y_test, y_pred)\n",
    "\n",
    "# Recall\n",
    "recall_score(y_test, y_pred)\n",
    "\n",
    "# F1 score\n",
    "f1_score(y_test,y_pred)\n",
    "\n",
    "# Cohen's kappa\n",
    "cohen_kappa_score(y_test, y_pred)"
   ]
  },
  {
   "cell_type": "markdown",
   "metadata": {},
   "source": [
    "## Random Forest"
   ]
  },
  {
   "cell_type": "code",
   "execution_count": 14,
   "metadata": {},
   "outputs": [
    {
     "name": "stdout",
     "output_type": "stream",
     "text": [
      "Score:  1.0\n",
      "Accuracy: 1.0\n",
      "1.0 1.0\n"
     ]
    },
    {
     "name": "stderr",
     "output_type": "stream",
     "text": [
      "/home/daemonsoft/anaconda3/lib/python3.7/site-packages/sklearn/utils/deprecation.py:125: FutureWarning: You are accessing a training score ('train_score'), which will not be available by default any more in 0.21. If you need training scores, please set return_train_score=True\n",
      "  warnings.warn(*warn_args, **warn_kwargs)\n"
     ]
    }
   ],
   "source": [
    "rfc = RandomForestClassifier(n_estimators=5)\n",
    "\n",
    "#train model\n",
    "rfc.fit(X_train, y_train)\n",
    "rfc_pred = rfc.predict(X_test)\n",
    "\n",
    "print('Score: ', rfc.score(X_train, y_train))\n",
    "\n",
    "print(\"Accuracy:\", accuracy_score(y_test, rfc_pred))\n",
    "\n",
    "rfc_results = cross_validate(rfc, X_train, y_train, cv=5)\n",
    "print(np.mean(rfc_results['test_score']), np.mean(rfc_results['train_score']))"
   ]
  },
  {
   "cell_type": "markdown",
   "metadata": {},
   "source": [
    "## Maquinas de Soporte Vectorial con kernel lineal y con kernel RBF"
   ]
  },
  {
   "cell_type": "code",
   "execution_count": null,
   "metadata": {},
   "outputs": [],
   "source": [
    "# Lineal\n",
    "\n",
    "\n",
    "\n",
    "\n",
    "\n"
   ]
  },
  {
   "cell_type": "code",
   "execution_count": null,
   "metadata": {},
   "outputs": [],
   "source": [
    "#RBF\n",
    "\n",
    "\n"
   ]
  },
  {
   "cell_type": "code",
   "execution_count": null,
   "metadata": {},
   "outputs": [],
   "source": []
  }
 ],
 "metadata": {
  "kernelspec": {
   "display_name": "Python 3",
   "language": "python",
   "name": "python3"
  },
  "language_info": {
   "codemirror_mode": {
    "name": "ipython",
    "version": 3
   },
   "file_extension": ".py",
   "mimetype": "text/x-python",
   "name": "python",
   "nbconvert_exporter": "python",
   "pygments_lexer": "ipython3",
   "version": "3.7.1"
  }
 },
 "nbformat": 4,
 "nbformat_minor": 2
}
